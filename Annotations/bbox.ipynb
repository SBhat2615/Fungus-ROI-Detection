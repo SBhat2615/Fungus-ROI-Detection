{
  "cells": [
    {
      "cell_type": "markdown",
      "metadata": {
        "id": "view-in-github",
        "colab_type": "text"
      },
      "source": [
        "<a href=\"https://colab.research.google.com/github/SBhat2615/Fungus-ROI-Detection/blob/main/Annotations/bbox.ipynb\" target=\"_parent\"><img src=\"https://colab.research.google.com/assets/colab-badge.svg\" alt=\"Open In Colab\"/></a>"
      ]
    },
    {
      "cell_type": "code",
      "execution_count": null,
      "metadata": {
        "colab": {
          "base_uri": "https://localhost:8080/"
        },
        "id": "th4d7qfOIfY6",
        "outputId": "97c44f9c-cf90-4209-cadf-b66088896093"
      },
      "outputs": [
        {
          "name": "stdout",
          "output_type": "stream",
          "text": [
            "Drive already mounted at /content/drive; to attempt to forcibly remount, call drive.mount(\"/content/drive\", force_remount=True).\n"
          ]
        }
      ],
      "source": [
        "from google.colab import drive\n",
        "drive.mount('/content/drive')"
      ]
    },
    {
      "cell_type": "code",
      "execution_count": null,
      "metadata": {
        "colab": {
          "base_uri": "https://localhost:8080/",
          "height": 35
        },
        "id": "b5mJ1Il-LvlR",
        "outputId": "cdfa7e73-09cd-4e7b-801d-aff2b32b3aef"
      },
      "outputs": [
        {
          "data": {
            "application/vnd.google.colaboratory.intrinsic+json": {
              "type": "string"
            },
            "text/plain": [
              "'/content'"
            ]
          },
          "execution_count": 3,
          "metadata": {},
          "output_type": "execute_result"
        }
      ],
      "source": [
        "%pwd"
      ]
    },
    {
      "cell_type": "code",
      "execution_count": null,
      "metadata": {
        "colab": {
          "base_uri": "https://localhost:8080/"
        },
        "id": "0oRDUYTxLyZ5",
        "outputId": "fc5f3fd1-c212-459f-8019-0a340043f0d3"
      },
      "outputs": [
        {
          "name": "stdout",
          "output_type": "stream",
          "text": [
            "/content/drive/.shortcut-targets-by-id/14M_-6GuN65Z94gavAIfbZqNv_fwRy9hr/Data_256/Data_256/Training Set\n"
          ]
        }
      ],
      "source": [
        "%cd /content/drive/MyDrive/Data_256/Data_256/Training\\ Set/"
      ]
    },
    {
      "cell_type": "code",
      "execution_count": null,
      "metadata": {
        "colab": {
          "base_uri": "https://localhost:8080/"
        },
        "id": "vQMSzooEL2g8",
        "outputId": "50caf2bb-cd54-4fb7-a73b-10fcd079ec74"
      },
      "outputs": [
        {
          "name": "stdout",
          "output_type": "stream",
          "text": [
            "label  Mask  original\n"
          ]
        }
      ],
      "source": [
        "!ls"
      ]
    },
    {
      "cell_type": "code",
      "execution_count": null,
      "metadata": {
        "id": "1qnnDzVwQcQ8"
      },
      "outputs": [],
      "source": []
    },
    {
      "cell_type": "markdown",
      "metadata": {
        "id": "Ta1Fh6YqNipK"
      },
      "source": [
        "# ANNOTATION"
      ]
    },
    {
      "cell_type": "code",
      "execution_count": null,
      "metadata": {
        "colab": {
          "base_uri": "https://localhost:8080/",
          "height": 35
        },
        "id": "x1dIUvWfNtj9",
        "outputId": "46febb25-44fb-49be-ae9e-15597b42af76"
      },
      "outputs": [
        {
          "data": {
            "application/vnd.google.colaboratory.intrinsic+json": {
              "type": "string"
            },
            "text/plain": [
              "'/content/drive/.shortcut-targets-by-id/14M_-6GuN65Z94gavAIfbZqNv_fwRy9hr/Data_256/Data_256/Training Set'"
            ]
          },
          "execution_count": 6,
          "metadata": {},
          "output_type": "execute_result"
        }
      ],
      "source": [
        "import os\n",
        "os.getcwd()\n",
        "# os.path.join(\"original\", \"*\")\n",
        "# if not os.path.exists(\"results\"):\n",
        "#   print('..')\n",
        "#   os.makedirs(\"results\")\n",
        "#   print(os.listdir())\n",
        "# else:\n",
        "#   print('....')"
      ]
    },
    {
      "cell_type": "code",
      "execution_count": null,
      "metadata": {
        "id": "a7njR2nTQzeH"
      },
      "outputs": [],
      "source": []
    },
    {
      "cell_type": "code",
      "execution_count": null,
      "metadata": {
        "colab": {
          "background_save": true,
          "base_uri": "https://localhost:8080/"
        },
        "id": "TuWfh8wtNmwt",
        "outputId": "bf3989a7-a40d-4dc2-8404-9810f933922a"
      },
      "outputs": [
        {
          "name": "stdout",
          "output_type": "stream",
          "text": [
            "['original', 'Mask', 'label']\n"
          ]
        },
        {
          "name": "stderr",
          "output_type": "stream",
          "text": [
            "100%|██████████| 1211/1211 [11:14<00:00,  1.80it/s]\n"
          ]
        }
      ],
      "source": [
        "import os, cv2\n",
        "import numpy as np\n",
        "from glob import glob\n",
        "from tqdm import tqdm\n",
        "from skimage.measure import label, regionprops, find_contours\n",
        "\n",
        "\n",
        "# Convert a mask to border image\n",
        "def mask_to_border(mask):\n",
        "    h, w = mask.shape\n",
        "    border = np.zeros((h, w))\n",
        "\n",
        "    contours = find_contours(mask, 250)\n",
        "\n",
        "    # canvas = np.zeros_like(mask)\n",
        "    # cv2.polylines(canvas, contours, isClosed=True, color=255, thickness=2)\n",
        "    # cv2.imshow('Contours', canvas)\n",
        "\n",
        "    for contour in contours:\n",
        "        for c in contour:\n",
        "            x = int(c[0])\n",
        "            y = int(c[1])\n",
        "            border[x][y] = 255\n",
        "    return border\n",
        "\n",
        "\n",
        "# Mask to bounding boxes\n",
        "def mask_to_bbox(mask):\n",
        "    bboxes = []\n",
        "\n",
        "    mask = mask_to_border(mask)\n",
        "    lbl = label(mask)\n",
        "    props = regionprops(lbl)\n",
        "    for prop in props:\n",
        "        x1 = prop.bbox[1]\n",
        "        y1 = prop.bbox[0]\n",
        "        x2 = prop.bbox[3]\n",
        "        y2 = prop.bbox[2]\n",
        "        bboxes.append([x1, y1, x2, y2])\n",
        "    return bboxes\n",
        "\n",
        "\n",
        "def parse_mask(mask):\n",
        "    mask = np.expand_dims(mask, axis=-1)\n",
        "    mask = np.concatenate([mask, mask, mask], axis=-1)\n",
        "    return mask\n",
        "\n",
        "\n",
        "if __name__ == \"__main__\":\n",
        "\n",
        "    images = sorted(glob(os.path.join(\"original\", \"*\")))\n",
        "    masks = sorted(glob(os.path.join(\"Mask\", \"*\")))\n",
        "\n",
        "    # if not os.path.exists(\"results\"):\n",
        "    #     os.makedirs(\"results\")\n",
        "    print(os.listdir())\n",
        "    # Loop over the dataset\n",
        "    for x, y in tqdm(zip(images, masks), total=len(images)):\n",
        "        # Extract the name\n",
        "        name = x.split(\"/\")[-1].split(\".\")[0]\n",
        "\n",
        "        # Read image and mask\n",
        "        x = cv2.imread(x, cv2.IMREAD_COLOR)\n",
        "        y = cv2.imread(y, cv2.IMREAD_GRAYSCALE)\n",
        "\n",
        "        # Detecting bounding boxes\n",
        "        bboxes = mask_to_bbox(y)\n",
        "\n",
        "        ''' NORMALIZE THE VALUES ?? '''\n",
        "        # Marking bounding box on image\n",
        "        for bbox in bboxes:\n",
        "            x = cv2.rectangle(x, (bbox[0], bbox[1]), (bbox[2], bbox[3]), (0, 0, 255), 2)\n",
        "\n",
        "            # Calculate & store bounding boxes\n",
        "            height = bbox[3]-bbox[1]\n",
        "            width = bbox[2]-bbox[0]\n",
        "            x1 = bbox[0] + (width//2)\n",
        "            y1 = bbox[1] + (height//2)\n",
        "\n",
        "            height, width, x1, y1 = height/256, width/256, x1/256, y1/256\n",
        "            ''' VERIFY THE COORDINATES '''\n",
        "\n",
        "            filename = 'label/' + name + '.txt'\n",
        "            with open(filename, 'a+') as file:\n",
        "                # print('Image : ', name)\n",
        "                # print(os.getcwd())\n",
        "                val = '1' + '\\t' + str(x1) + '\\t' + str(y1) + '\\t' + str(height) + '\\t' + str(width)\n",
        "                file.write(val + '\\n')\n",
        "\n",
        "        # Saving the image\n",
        "        #cat_image = np.concatenate([x, parse_mask(y)], axis=1)\n",
        "        #cv2.imwrite(f\"results/{name}.png\", cat_image)\n"
      ]
    },
    {
      "cell_type": "code",
      "execution_count": null,
      "metadata": {
        "id": "-eJGeomURcqG"
      },
      "outputs": [],
      "source": [
        "## Verify number of files\n",
        "\n",
        "for folder in os.listdir():\n",
        "  print(folder , ' - ', len(os.listdir(folder))"
      ]
    }
  ],
  "metadata": {
    "colab": {
      "provenance": [],
      "authorship_tag": "ABX9TyPjI9md4owEidqEVFDCJYVZ",
      "include_colab_link": true
    },
    "kernelspec": {
      "display_name": "Python 3",
      "name": "python3"
    },
    "language_info": {
      "name": "python"
    }
  },
  "nbformat": 4,
  "nbformat_minor": 0
}