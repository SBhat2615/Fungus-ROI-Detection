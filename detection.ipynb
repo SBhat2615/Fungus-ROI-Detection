{
  "nbformat": 4,
  "nbformat_minor": 0,
  "metadata": {
    "colab": {
      "provenance": [],
      "authorship_tag": "ABX9TyPJy4vsJnhxsPHaEn87isGG",
      "include_colab_link": true
    },
    "kernelspec": {
      "name": "python3",
      "display_name": "Python 3"
    },
    "language_info": {
      "name": "python"
    }
  },
  "cells": [
    {
      "cell_type": "markdown",
      "metadata": {
        "id": "view-in-github",
        "colab_type": "text"
      },
      "source": [
        "<a href=\"https://colab.research.google.com/github/SBhat2615/Fungus-ROI-Detection/blob/main/detection.ipynb\" target=\"_parent\"><img src=\"https://colab.research.google.com/assets/colab-badge.svg\" alt=\"Open In Colab\"/></a>"
      ]
    },
    {
      "cell_type": "markdown",
      "source": [
        "\n",
        "\n",
        "*   Yolov8\n"
      ],
      "metadata": {
        "id": "AG_Scim46Thm"
      }
    },
    {
      "cell_type": "code",
      "source": [
        "# Using roboflow"
      ],
      "metadata": {
        "id": "H9PWhU-26X5H"
      },
      "execution_count": null,
      "outputs": []
    }
  ]
}